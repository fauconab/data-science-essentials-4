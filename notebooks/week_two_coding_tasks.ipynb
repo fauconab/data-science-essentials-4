{
 "cells": [
  {
   "cell_type": "markdown",
   "metadata": {},
   "source": [
    "First, you'll work with a dataset containing the number of primary care physicians per county for each county in the United States. It was obtained from the Area Health Resources File, published by the [Health Resources and Services Administration](https://data.hrsa.gov/topics/health-workforce/ahrf). This data is contained in the file `primary_care_physicians.csv`.\n",
    "\n",
    "Second, the file `population_by_county.csv` contains the Census Bureau's 2019 population estimates for each US County. It also contains a column `urban`. The `urban` column uses data from the National Bureau of Economic Research to classify each county as either urban or rural. The U.S. Office of Management and Budget designates counties as metropolitan (a core urban area of 50,000 or more population), micropolitan (an urban core of at least 10,000 but less than 50,000 population), or neither. Here, a county is considered \"urban\" if it is part of a metropolitan or micropolitan area and \"rural\" if it is not.\n",
    "\n",
    " 1. First, import the primary care physicians dataset (`primary_care_physicians.csv`) into a data frame named `physicians`. \n",
    " 2. Filter `physicians` down to just the counties in Tennessee. Save the filtered dataframe back to `physicians`. Verify that the resulting dataframe has 95 rows.\n",
    " 3. Look at the distribution of the number of primary care physicians. What do you notice?\n",
    " 4. Now, import the population by county dataset (`population_by_county.csv`) into a DataFrame named `population`.\n",
    " 5. Merge the `physicians` DataFrame with the `population` DataFrame. Keep only the values for Tennessee. When you merge, be sure the include both the `population` and `urban` columns in the merged results. Save the result of the merge back to `physicians`.\n",
    " 6. How many Tennessee counties are considered urban?\n",
    " 7. The State Health Access Data Assistance Center (SHADAC) (https://www.shadac.org/) classifies counties into three groups based on the number of residents per primary care physician. First, counties with fewer than 1500 residents per primary care physician are considered to have an \"adequate\" supply. Counties with at least 1500 residents but fewer than 3500 residents per primary care physician are considered to have a \"moderately inadequate\" supply, and counties with at least 3500 residents per primary care physician are considered to have a \"low inadequate\" supply. How many counties in Tennessee are in each group? \n",
    " 8. Does there appear to be any detectable relationship between whether a county is urban or rural and its supply of primary care physicians?"
   ]
  },
  {
   "cell_type": "markdown",
   "metadata": {},
   "source": [
    "#1: First, import the primary care physicians dataset (primary_care_physicians.csv) into a data frame named physicians."
   ]
  },
  {
   "cell_type": "code",
   "execution_count": 1,
   "metadata": {},
   "outputs": [],
   "source": [
    "import pandas as pd"
   ]
  },
  {
   "cell_type": "code",
   "execution_count": 2,
   "metadata": {},
   "outputs": [],
   "source": [
    "physicians = pd.read_csv('../data/primary_care_physicians.csv')"
   ]
  },
  {
   "cell_type": "code",
   "execution_count": 3,
   "metadata": {},
   "outputs": [
    {
     "data": {
      "text/html": [
       "<div>\n",
       "<style scoped>\n",
       "    .dataframe tbody tr th:only-of-type {\n",
       "        vertical-align: middle;\n",
       "    }\n",
       "\n",
       "    .dataframe tbody tr th {\n",
       "        vertical-align: top;\n",
       "    }\n",
       "\n",
       "    .dataframe thead th {\n",
       "        text-align: right;\n",
       "    }\n",
       "</style>\n",
       "<table border=\"1\" class=\"dataframe\">\n",
       "  <thead>\n",
       "    <tr style=\"text-align: right;\">\n",
       "      <th></th>\n",
       "      <th>FIPS</th>\n",
       "      <th>state</th>\n",
       "      <th>county</th>\n",
       "      <th>primary_care_physicians</th>\n",
       "    </tr>\n",
       "  </thead>\n",
       "  <tbody>\n",
       "    <tr>\n",
       "      <th>0</th>\n",
       "      <td>1001</td>\n",
       "      <td>Alabama</td>\n",
       "      <td>Autauga</td>\n",
       "      <td>26.0</td>\n",
       "    </tr>\n",
       "    <tr>\n",
       "      <th>1</th>\n",
       "      <td>1003</td>\n",
       "      <td>Alabama</td>\n",
       "      <td>Baldwin</td>\n",
       "      <td>153.0</td>\n",
       "    </tr>\n",
       "    <tr>\n",
       "      <th>2</th>\n",
       "      <td>1005</td>\n",
       "      <td>Alabama</td>\n",
       "      <td>Barbour</td>\n",
       "      <td>8.0</td>\n",
       "    </tr>\n",
       "  </tbody>\n",
       "</table>\n",
       "</div>"
      ],
      "text/plain": [
       "   FIPS    state   county  primary_care_physicians\n",
       "0  1001  Alabama  Autauga                     26.0\n",
       "1  1003  Alabama  Baldwin                    153.0\n",
       "2  1005  Alabama  Barbour                      8.0"
      ]
     },
     "execution_count": 3,
     "metadata": {},
     "output_type": "execute_result"
    }
   ],
   "source": [
    "physicians.head(3)"
   ]
  },
  {
   "cell_type": "markdown",
   "metadata": {},
   "source": [
    "#2: Filter physicians down to just the counties in Tennessee. Save the filtered dataframe back to physicians. Verify that the resulting dataframe has 95 rows"
   ]
  },
  {
   "cell_type": "code",
   "execution_count": 5,
   "metadata": {},
   "outputs": [],
   "source": [
    "physicians = physicians.loc[physicians['state']==\"Tennessee\"]"
   ]
  },
  {
   "cell_type": "code",
   "execution_count": 7,
   "metadata": {},
   "outputs": [
    {
     "data": {
      "text/plain": [
       "(95, 4)"
      ]
     },
     "execution_count": 7,
     "metadata": {},
     "output_type": "execute_result"
    }
   ],
   "source": [
    "physicians.shape"
   ]
  },
  {
   "cell_type": "markdown",
   "metadata": {},
   "source": [
    "#3: Look at the distribution of the number of primary care physicians. What do you notice?"
   ]
  },
  {
   "cell_type": "code",
   "execution_count": 11,
   "metadata": {},
   "outputs": [
    {
     "data": {
      "text/plain": [
       "<bound method IndexOpsMixin.value_counts of 2432     39.0\n",
       "2433     15.0\n",
       "2434      3.0\n",
       "2435      1.0\n",
       "2436     90.0\n",
       "        ...  \n",
       "2522      5.0\n",
       "2523     18.0\n",
       "2524      9.0\n",
       "2525    338.0\n",
       "2526     43.0\n",
       "Name: primary_care_physicians, Length: 95, dtype: float64>"
      ]
     },
     "execution_count": 11,
     "metadata": {},
     "output_type": "execute_result"
    }
   ],
   "source": [
    "physicians['primary_care_physicians'].value_counts"
   ]
  },
  {
   "cell_type": "markdown",
   "metadata": {},
   "source": [
    "#4: Now, import the population by county dataset (population_by_county.csv) into a DataFrame named population."
   ]
  },
  {
   "cell_type": "code",
   "execution_count": 12,
   "metadata": {},
   "outputs": [],
   "source": [
    "population = pd.read_csv('../data/population_by_county.csv')"
   ]
  },
  {
   "cell_type": "code",
   "execution_count": 13,
   "metadata": {},
   "outputs": [
    {
     "data": {
      "text/html": [
       "<div>\n",
       "<style scoped>\n",
       "    .dataframe tbody tr th:only-of-type {\n",
       "        vertical-align: middle;\n",
       "    }\n",
       "\n",
       "    .dataframe tbody tr th {\n",
       "        vertical-align: top;\n",
       "    }\n",
       "\n",
       "    .dataframe thead th {\n",
       "        text-align: right;\n",
       "    }\n",
       "</style>\n",
       "<table border=\"1\" class=\"dataframe\">\n",
       "  <thead>\n",
       "    <tr style=\"text-align: right;\">\n",
       "      <th></th>\n",
       "      <th>FIPS</th>\n",
       "      <th>population</th>\n",
       "      <th>county</th>\n",
       "      <th>state</th>\n",
       "      <th>urban</th>\n",
       "    </tr>\n",
       "  </thead>\n",
       "  <tbody>\n",
       "    <tr>\n",
       "      <th>0</th>\n",
       "      <td>17051</td>\n",
       "      <td>21565</td>\n",
       "      <td>Fayette County</td>\n",
       "      <td>ILLINOIS</td>\n",
       "      <td>Rural</td>\n",
       "    </tr>\n",
       "    <tr>\n",
       "      <th>1</th>\n",
       "      <td>17107</td>\n",
       "      <td>29003</td>\n",
       "      <td>Logan County</td>\n",
       "      <td>ILLINOIS</td>\n",
       "      <td>Rural</td>\n",
       "    </tr>\n",
       "    <tr>\n",
       "      <th>2</th>\n",
       "      <td>17165</td>\n",
       "      <td>23994</td>\n",
       "      <td>Saline County</td>\n",
       "      <td>ILLINOIS</td>\n",
       "      <td>Rural</td>\n",
       "    </tr>\n",
       "    <tr>\n",
       "      <th>3</th>\n",
       "      <td>17097</td>\n",
       "      <td>701473</td>\n",
       "      <td>Lake County</td>\n",
       "      <td>ILLINOIS</td>\n",
       "      <td>Urban</td>\n",
       "    </tr>\n",
       "    <tr>\n",
       "      <th>4</th>\n",
       "      <td>17127</td>\n",
       "      <td>14219</td>\n",
       "      <td>Massac County</td>\n",
       "      <td>ILLINOIS</td>\n",
       "      <td>Rural</td>\n",
       "    </tr>\n",
       "  </tbody>\n",
       "</table>\n",
       "</div>"
      ],
      "text/plain": [
       "    FIPS  population          county     state  urban\n",
       "0  17051       21565  Fayette County  ILLINOIS  Rural\n",
       "1  17107       29003    Logan County  ILLINOIS  Rural\n",
       "2  17165       23994   Saline County  ILLINOIS  Rural\n",
       "3  17097      701473     Lake County  ILLINOIS  Urban\n",
       "4  17127       14219   Massac County  ILLINOIS  Rural"
      ]
     },
     "execution_count": 13,
     "metadata": {},
     "output_type": "execute_result"
    }
   ],
   "source": [
    "population.head()"
   ]
  },
  {
   "cell_type": "markdown",
   "metadata": {},
   "source": [
    "#5: Merge the physicians DataFrame with the population DataFrame. Keep only the values for Tennessee. When you merge, be sure the include both the population and urban columns in the merged results. Save the result of the merge back to physicians."
   ]
  },
  {
   "cell_type": "code",
   "execution_count": 16,
   "metadata": {},
   "outputs": [],
   "source": [
    "pcp = pd.merge( left = physicians,\n",
    "               right = population.loc[population['state']==\"TENNESSEE\"], on=\"FIPS\")"
   ]
  },
  {
   "cell_type": "code",
   "execution_count": 17,
   "metadata": {},
   "outputs": [
    {
     "data": {
      "text/html": [
       "<div>\n",
       "<style scoped>\n",
       "    .dataframe tbody tr th:only-of-type {\n",
       "        vertical-align: middle;\n",
       "    }\n",
       "\n",
       "    .dataframe tbody tr th {\n",
       "        vertical-align: top;\n",
       "    }\n",
       "\n",
       "    .dataframe thead th {\n",
       "        text-align: right;\n",
       "    }\n",
       "</style>\n",
       "<table border=\"1\" class=\"dataframe\">\n",
       "  <thead>\n",
       "    <tr style=\"text-align: right;\">\n",
       "      <th></th>\n",
       "      <th>FIPS</th>\n",
       "      <th>state_x</th>\n",
       "      <th>county_x</th>\n",
       "      <th>primary_care_physicians</th>\n",
       "      <th>population</th>\n",
       "      <th>county_y</th>\n",
       "      <th>state_y</th>\n",
       "      <th>urban</th>\n",
       "    </tr>\n",
       "  </thead>\n",
       "  <tbody>\n",
       "    <tr>\n",
       "      <th>0</th>\n",
       "      <td>47001</td>\n",
       "      <td>Tennessee</td>\n",
       "      <td>Anderson</td>\n",
       "      <td>39.0</td>\n",
       "      <td>76061</td>\n",
       "      <td>Anderson County</td>\n",
       "      <td>TENNESSEE</td>\n",
       "      <td>Urban</td>\n",
       "    </tr>\n",
       "    <tr>\n",
       "      <th>1</th>\n",
       "      <td>47003</td>\n",
       "      <td>Tennessee</td>\n",
       "      <td>Bedford</td>\n",
       "      <td>15.0</td>\n",
       "      <td>48292</td>\n",
       "      <td>Bedford County</td>\n",
       "      <td>TENNESSEE</td>\n",
       "      <td>Rural</td>\n",
       "    </tr>\n",
       "    <tr>\n",
       "      <th>2</th>\n",
       "      <td>47005</td>\n",
       "      <td>Tennessee</td>\n",
       "      <td>Benton</td>\n",
       "      <td>3.0</td>\n",
       "      <td>16140</td>\n",
       "      <td>Benton County</td>\n",
       "      <td>TENNESSEE</td>\n",
       "      <td>Rural</td>\n",
       "    </tr>\n",
       "    <tr>\n",
       "      <th>3</th>\n",
       "      <td>47007</td>\n",
       "      <td>Tennessee</td>\n",
       "      <td>Bledsoe</td>\n",
       "      <td>1.0</td>\n",
       "      <td>14836</td>\n",
       "      <td>Bledsoe County</td>\n",
       "      <td>TENNESSEE</td>\n",
       "      <td>Rural</td>\n",
       "    </tr>\n",
       "    <tr>\n",
       "      <th>4</th>\n",
       "      <td>47009</td>\n",
       "      <td>Tennessee</td>\n",
       "      <td>Blount</td>\n",
       "      <td>90.0</td>\n",
       "      <td>129927</td>\n",
       "      <td>Blount County</td>\n",
       "      <td>TENNESSEE</td>\n",
       "      <td>Urban</td>\n",
       "    </tr>\n",
       "  </tbody>\n",
       "</table>\n",
       "</div>"
      ],
      "text/plain": [
       "    FIPS    state_x  county_x  primary_care_physicians  population  \\\n",
       "0  47001  Tennessee  Anderson                     39.0       76061   \n",
       "1  47003  Tennessee   Bedford                     15.0       48292   \n",
       "2  47005  Tennessee    Benton                      3.0       16140   \n",
       "3  47007  Tennessee   Bledsoe                      1.0       14836   \n",
       "4  47009  Tennessee    Blount                     90.0      129927   \n",
       "\n",
       "          county_y    state_y  urban  \n",
       "0  Anderson County  TENNESSEE  Urban  \n",
       "1   Bedford County  TENNESSEE  Rural  \n",
       "2    Benton County  TENNESSEE  Rural  \n",
       "3   Bledsoe County  TENNESSEE  Rural  \n",
       "4    Blount County  TENNESSEE  Urban  "
      ]
     },
     "execution_count": 17,
     "metadata": {},
     "output_type": "execute_result"
    }
   ],
   "source": [
    "pcp.head()"
   ]
  },
  {
   "cell_type": "code",
   "execution_count": 18,
   "metadata": {},
   "outputs": [
    {
     "data": {
      "text/plain": [
       "(95, 8)"
      ]
     },
     "execution_count": 18,
     "metadata": {},
     "output_type": "execute_result"
    }
   ],
   "source": [
    "pcp.shape"
   ]
  },
  {
   "cell_type": "code",
   "execution_count": 19,
   "metadata": {},
   "outputs": [],
   "source": [
    "physicians=pcp"
   ]
  },
  {
   "cell_type": "markdown",
   "metadata": {},
   "source": [
    "#6: How many Tennessee counties are considered urban? <br> 38"
   ]
  },
  {
   "cell_type": "code",
   "execution_count": 21,
   "metadata": {},
   "outputs": [
    {
     "data": {
      "text/plain": [
       "Rural    57\n",
       "Urban    38\n",
       "Name: urban, dtype: int64"
      ]
     },
     "execution_count": 21,
     "metadata": {},
     "output_type": "execute_result"
    }
   ],
   "source": [
    "physicians['urban'].value_counts()"
   ]
  },
  {
   "cell_type": "markdown",
   "metadata": {},
   "source": [
    "The State Health Access Data Assistance Center (SHADAC) (https://www.shadac.org/) classifies counties into three groups based on the number of residents per primary care physician. First, counties with fewer than 1500 residents per primary care physician are considered to have an \"adequate\" supply. Counties with at least 1500 residents but fewer than 3500 residents per primary care physician are considered to have a \"moderately inadequate\" supply, and counties with at least 3500 residents per primary care physician are considered to have a \"low inadequate\" supply. How many counties in Tennessee are in each group?"
   ]
  },
  {
   "cell_type": "code",
   "execution_count": 36,
   "metadata": {},
   "outputs": [],
   "source": [
    "physicians['res_per_pcp'] = physicians['population'] / physicians['primary_care_physicians']"
   ]
  },
  {
   "cell_type": "code",
   "execution_count": 42,
   "metadata": {},
   "outputs": [
    {
     "data": {
      "text/html": [
       "<div>\n",
       "<style scoped>\n",
       "    .dataframe tbody tr th:only-of-type {\n",
       "        vertical-align: middle;\n",
       "    }\n",
       "\n",
       "    .dataframe tbody tr th {\n",
       "        vertical-align: top;\n",
       "    }\n",
       "\n",
       "    .dataframe thead th {\n",
       "        text-align: right;\n",
       "    }\n",
       "</style>\n",
       "<table border=\"1\" class=\"dataframe\">\n",
       "  <thead>\n",
       "    <tr style=\"text-align: right;\">\n",
       "      <th></th>\n",
       "      <th>FIPS</th>\n",
       "      <th>state_x</th>\n",
       "      <th>county_x</th>\n",
       "      <th>primary_care_physicians</th>\n",
       "      <th>population</th>\n",
       "      <th>county_y</th>\n",
       "      <th>state_y</th>\n",
       "      <th>urban</th>\n",
       "      <th>pcp_supply</th>\n",
       "      <th>res_per_pcp</th>\n",
       "    </tr>\n",
       "  </thead>\n",
       "  <tbody>\n",
       "    <tr>\n",
       "      <th>0</th>\n",
       "      <td>47001</td>\n",
       "      <td>Tennessee</td>\n",
       "      <td>Anderson</td>\n",
       "      <td>39.0</td>\n",
       "      <td>76061</td>\n",
       "      <td>Anderson County</td>\n",
       "      <td>TENNESSEE</td>\n",
       "      <td>Urban</td>\n",
       "      <td>moderately adequate</td>\n",
       "      <td>1950.282051</td>\n",
       "    </tr>\n",
       "    <tr>\n",
       "      <th>1</th>\n",
       "      <td>47003</td>\n",
       "      <td>Tennessee</td>\n",
       "      <td>Bedford</td>\n",
       "      <td>15.0</td>\n",
       "      <td>48292</td>\n",
       "      <td>Bedford County</td>\n",
       "      <td>TENNESSEE</td>\n",
       "      <td>Rural</td>\n",
       "      <td>moderately adequate</td>\n",
       "      <td>3219.466667</td>\n",
       "    </tr>\n",
       "    <tr>\n",
       "      <th>2</th>\n",
       "      <td>47005</td>\n",
       "      <td>Tennessee</td>\n",
       "      <td>Benton</td>\n",
       "      <td>3.0</td>\n",
       "      <td>16140</td>\n",
       "      <td>Benton County</td>\n",
       "      <td>TENNESSEE</td>\n",
       "      <td>Rural</td>\n",
       "      <td>adequate</td>\n",
       "      <td>5380.000000</td>\n",
       "    </tr>\n",
       "    <tr>\n",
       "      <th>3</th>\n",
       "      <td>47007</td>\n",
       "      <td>Tennessee</td>\n",
       "      <td>Bledsoe</td>\n",
       "      <td>1.0</td>\n",
       "      <td>14836</td>\n",
       "      <td>Bledsoe County</td>\n",
       "      <td>TENNESSEE</td>\n",
       "      <td>Rural</td>\n",
       "      <td>adequate</td>\n",
       "      <td>14836.000000</td>\n",
       "    </tr>\n",
       "    <tr>\n",
       "      <th>4</th>\n",
       "      <td>47009</td>\n",
       "      <td>Tennessee</td>\n",
       "      <td>Blount</td>\n",
       "      <td>90.0</td>\n",
       "      <td>129927</td>\n",
       "      <td>Blount County</td>\n",
       "      <td>TENNESSEE</td>\n",
       "      <td>Urban</td>\n",
       "      <td>low inadequate</td>\n",
       "      <td>1443.633333</td>\n",
       "    </tr>\n",
       "  </tbody>\n",
       "</table>\n",
       "</div>"
      ],
      "text/plain": [
       "    FIPS    state_x  county_x  primary_care_physicians  population  \\\n",
       "0  47001  Tennessee  Anderson                     39.0       76061   \n",
       "1  47003  Tennessee   Bedford                     15.0       48292   \n",
       "2  47005  Tennessee    Benton                      3.0       16140   \n",
       "3  47007  Tennessee   Bledsoe                      1.0       14836   \n",
       "4  47009  Tennessee    Blount                     90.0      129927   \n",
       "\n",
       "          county_y    state_y  urban           pcp_supply   res_per_pcp  \n",
       "0  Anderson County  TENNESSEE  Urban  moderately adequate   1950.282051  \n",
       "1   Bedford County  TENNESSEE  Rural  moderately adequate   3219.466667  \n",
       "2    Benton County  TENNESSEE  Rural             adequate   5380.000000  \n",
       "3   Bledsoe County  TENNESSEE  Rural             adequate  14836.000000  \n",
       "4    Blount County  TENNESSEE  Urban       low inadequate   1443.633333  "
      ]
     },
     "execution_count": 42,
     "metadata": {},
     "output_type": "execute_result"
    }
   ],
   "source": [
    "physicians.head()"
   ]
  },
  {
   "cell_type": "code",
   "execution_count": 37,
   "metadata": {},
   "outputs": [],
   "source": [
    "physicians['pcp_supply']= \"low inadequate\""
   ]
  },
  {
   "cell_type": "code",
   "execution_count": 44,
   "metadata": {},
   "outputs": [],
   "source": [
    "physicians.loc[(physicians['res_per_pcp'] >= 1500),'pcp_supply'] = \"moderately adequate\""
   ]
  },
  {
   "cell_type": "code",
   "execution_count": 45,
   "metadata": {},
   "outputs": [],
   "source": [
    "physicians.loc[(physicians['res_per_pcp'] >= 3500),'pcp_supply'] = \"adequate\""
   ]
  },
  {
   "cell_type": "code",
   "execution_count": 46,
   "metadata": {},
   "outputs": [
    {
     "data": {
      "text/plain": [
       "moderately adequate    50\n",
       "adequate               31\n",
       "low inadequate         14\n",
       "Name: pcp_supply, dtype: int64"
      ]
     },
     "execution_count": 46,
     "metadata": {},
     "output_type": "execute_result"
    }
   ],
   "source": [
    "physicians['pcp_supply'].value_counts()"
   ]
  },
  {
   "cell_type": "markdown",
   "metadata": {},
   "source": [
    "#8: Does there appear to be any detectable relationship between whether a county is urban or \n",
    "rural and its supply of primary care physicians?"
   ]
  },
  {
   "cell_type": "code",
   "execution_count": 48,
   "metadata": {},
   "outputs": [
    {
     "ename": "SyntaxError",
     "evalue": "unexpected EOF while parsing (<ipython-input-48-aec9472a19a9>, line 1)",
     "output_type": "error",
     "traceback": [
      "\u001b[0;36m  File \u001b[0;32m\"<ipython-input-48-aec9472a19a9>\"\u001b[0;36m, line \u001b[0;32m1\u001b[0m\n\u001b[0;31m    physicians[['pcp_supply','urban'].table()\u001b[0m\n\u001b[0m                                             ^\u001b[0m\n\u001b[0;31mSyntaxError\u001b[0m\u001b[0;31m:\u001b[0m unexpected EOF while parsing\n"
     ]
    }
   ],
   "source": [
    "physicians[['pcp_supply','urban'].table()"
   ]
  },
  {
   "cell_type": "code",
   "execution_count": null,
   "metadata": {},
   "outputs": [],
   "source": []
  }
 ],
 "metadata": {
  "kernelspec": {
   "display_name": "Python 3",
   "language": "python",
   "name": "python3"
  },
  "language_info": {
   "codemirror_mode": {
    "name": "ipython",
    "version": 3
   },
   "file_extension": ".py",
   "mimetype": "text/x-python",
   "name": "python",
   "nbconvert_exporter": "python",
   "pygments_lexer": "ipython3",
   "version": "3.6.4"
  }
 },
 "nbformat": 4,
 "nbformat_minor": 2
}
