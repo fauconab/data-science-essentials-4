{
 "cells": [
  {
   "cell_type": "markdown",
   "metadata": {},
   "source": [
    "## Week 1\n",
    "What is Data Science?\n",
    "\n",
    " - Coding Skills/Statistics/Domain Expertise\n",
    " - The Data Science Process\n",
    " - Examples of Data Science in the world\n",
    "\n",
    "**Coding tasks:** Create a new Jupyer Notebook to complete the following tasks.\n",
    "\n",
    "A dataset containing information on US hospitals is contained in the data folder in the file `Hospitals.csv`. This datset was downloaded from [the Homeland Infrastructure Foundation-Level Data (HIFLD) database](https://hifld-geoplatform.opendata.arcgis.com/datasets/hospitals/explore).\n",
    "\n",
    "1. Read this dataset into a DataFrame named `hospitals`.\n",
    "2. Look at the first few rows and then look at the last few. What do you notice?\n",
    "3. How many rows and columns does this DataFrame have?\n",
    "4. We don't need all of the columns. Slice the dataframe down so that it only contains the following columns: 'NAME', 'ADDRESS', 'CITY', 'STATE', 'TYPE',  'POPULATION', 'COUNTY', 'COUNTYFIPS', 'NAICS_DESC', 'BEDS'\n",
    "5. What are the different hospital types (contained in the `TYPE` column)? Which is the most common?\n",
    "6. Find all hospitals in Nashville, Tennessee. Take a look at the BEDS column. What do you notice? Why do you think this is?\n",
    "7. Which county in Tennessee has the most hospitals?\n",
    "8. There are 95 counties in Tennessee. How many of them have no hospitals at all?"
   ]
  },
  {
   "cell_type": "code",
   "execution_count": 1,
   "metadata": {},
   "outputs": [],
   "source": [
    "import pandas as pd"
   ]
  },
  {
   "cell_type": "markdown",
   "metadata": {},
   "source": [
    "#1: Read in dataset"
   ]
  },
  {
   "cell_type": "code",
   "execution_count": 2,
   "metadata": {},
   "outputs": [],
   "source": [
    "df = pd.read_csv('../data/Hospitals.csv')"
   ]
  },
  {
   "cell_type": "markdown",
   "metadata": {},
   "source": [
    "#2: Look at first and last rows"
   ]
  },
  {
   "cell_type": "markdown",
   "metadata": {},
   "source": [
    "#2 observations: <br>\n",
    "There are 34 columns of data. For missing values, NOT AVAILABLE and -999 both appear to be used. The hospital dataset has an ID and OBJECT ID for each entry, along with an address, city, state and ZIP. The data appears to use dates from feb 2014 to may 2020, and supplies various info about the hospital including available beds, available specialties and capabilities. There is an X and Y value for each, the description of which is not immediately obvious. "
   ]
  },
  {
   "cell_type": "code",
   "execution_count": 3,
   "metadata": {
    "scrolled": true
   },
   "outputs": [
    {
     "data": {
      "text/html": [
       "<div>\n",
       "<style scoped>\n",
       "    .dataframe tbody tr th:only-of-type {\n",
       "        vertical-align: middle;\n",
       "    }\n",
       "\n",
       "    .dataframe tbody tr th {\n",
       "        vertical-align: top;\n",
       "    }\n",
       "\n",
       "    .dataframe thead th {\n",
       "        text-align: right;\n",
       "    }\n",
       "</style>\n",
       "<table border=\"1\" class=\"dataframe\">\n",
       "  <thead>\n",
       "    <tr style=\"text-align: right;\">\n",
       "      <th></th>\n",
       "      <th>X</th>\n",
       "      <th>Y</th>\n",
       "      <th>OBJECTID</th>\n",
       "      <th>ID</th>\n",
       "      <th>NAME</th>\n",
       "      <th>ADDRESS</th>\n",
       "      <th>CITY</th>\n",
       "      <th>STATE</th>\n",
       "      <th>ZIP</th>\n",
       "      <th>ZIP4</th>\n",
       "      <th>...</th>\n",
       "      <th>VAL_DATE</th>\n",
       "      <th>WEBSITE</th>\n",
       "      <th>STATE_ID</th>\n",
       "      <th>ALT_NAME</th>\n",
       "      <th>ST_FIPS</th>\n",
       "      <th>OWNER</th>\n",
       "      <th>TTL_STAFF</th>\n",
       "      <th>BEDS</th>\n",
       "      <th>TRAUMA</th>\n",
       "      <th>HELIPAD</th>\n",
       "    </tr>\n",
       "  </thead>\n",
       "  <tbody>\n",
       "    <tr>\n",
       "      <th>0</th>\n",
       "      <td>-1.331889e+07</td>\n",
       "      <td>4.346975e+06</td>\n",
       "      <td>1</td>\n",
       "      <td>5793230</td>\n",
       "      <td>CENTRAL VALLEY GENERAL HOSPITAL</td>\n",
       "      <td>1025 NORTH DOUTY STREET</td>\n",
       "      <td>HANFORD</td>\n",
       "      <td>CA</td>\n",
       "      <td>93230</td>\n",
       "      <td>NOT AVAILABLE</td>\n",
       "      <td>...</td>\n",
       "      <td>2014/02/10 00:00:00</td>\n",
       "      <td>http://www.hanfordhealth.com</td>\n",
       "      <td>NOT AVAILABLE</td>\n",
       "      <td>NOT AVAILABLE</td>\n",
       "      <td>6</td>\n",
       "      <td>PROPRIETARY</td>\n",
       "      <td>-999</td>\n",
       "      <td>49</td>\n",
       "      <td>NOT AVAILABLE</td>\n",
       "      <td>N</td>\n",
       "    </tr>\n",
       "    <tr>\n",
       "      <th>1</th>\n",
       "      <td>-1.322651e+07</td>\n",
       "      <td>4.049626e+06</td>\n",
       "      <td>2</td>\n",
       "      <td>53391362</td>\n",
       "      <td>LOS ROBLES HOSPITAL &amp; MEDICAL CENTER - EAST CA...</td>\n",
       "      <td>150 VIA MERIDA</td>\n",
       "      <td>WESTLAKE VILAGE</td>\n",
       "      <td>CA</td>\n",
       "      <td>91362</td>\n",
       "      <td>NOT AVAILABLE</td>\n",
       "      <td>...</td>\n",
       "      <td>2014/02/10 00:00:00</td>\n",
       "      <td>http://www.losrobleshospital.com</td>\n",
       "      <td>NOT AVAILABLE</td>\n",
       "      <td>NOT AVAILABLE</td>\n",
       "      <td>6</td>\n",
       "      <td>PROPRIETARY</td>\n",
       "      <td>-999</td>\n",
       "      <td>62</td>\n",
       "      <td>NOT AVAILABLE</td>\n",
       "      <td>N</td>\n",
       "    </tr>\n",
       "    <tr>\n",
       "      <th>2</th>\n",
       "      <td>-1.315620e+07</td>\n",
       "      <td>4.031978e+06</td>\n",
       "      <td>3</td>\n",
       "      <td>11190023</td>\n",
       "      <td>EAST LOS ANGELES DOCTORS HOSPITAL</td>\n",
       "      <td>4060 WHITTIER BOULEVARD</td>\n",
       "      <td>LOS ANGELES</td>\n",
       "      <td>CA</td>\n",
       "      <td>90023</td>\n",
       "      <td>NOT AVAILABLE</td>\n",
       "      <td>...</td>\n",
       "      <td>2014/02/10 00:00:00</td>\n",
       "      <td>http://www.elalax.com</td>\n",
       "      <td>NOT AVAILABLE</td>\n",
       "      <td>NOT AVAILABLE</td>\n",
       "      <td>6</td>\n",
       "      <td>PROPRIETARY</td>\n",
       "      <td>-999</td>\n",
       "      <td>127</td>\n",
       "      <td>NOT AVAILABLE</td>\n",
       "      <td>N</td>\n",
       "    </tr>\n",
       "  </tbody>\n",
       "</table>\n",
       "<p>3 rows × 34 columns</p>\n",
       "</div>"
      ],
      "text/plain": [
       "              X             Y  OBJECTID        ID  \\\n",
       "0 -1.331889e+07  4.346975e+06         1   5793230   \n",
       "1 -1.322651e+07  4.049626e+06         2  53391362   \n",
       "2 -1.315620e+07  4.031978e+06         3  11190023   \n",
       "\n",
       "                                                NAME                  ADDRESS  \\\n",
       "0                    CENTRAL VALLEY GENERAL HOSPITAL  1025 NORTH DOUTY STREET   \n",
       "1  LOS ROBLES HOSPITAL & MEDICAL CENTER - EAST CA...           150 VIA MERIDA   \n",
       "2                  EAST LOS ANGELES DOCTORS HOSPITAL  4060 WHITTIER BOULEVARD   \n",
       "\n",
       "              CITY STATE    ZIP           ZIP4  ...             VAL_DATE  \\\n",
       "0          HANFORD    CA  93230  NOT AVAILABLE  ...  2014/02/10 00:00:00   \n",
       "1  WESTLAKE VILAGE    CA  91362  NOT AVAILABLE  ...  2014/02/10 00:00:00   \n",
       "2      LOS ANGELES    CA  90023  NOT AVAILABLE  ...  2014/02/10 00:00:00   \n",
       "\n",
       "                            WEBSITE       STATE_ID       ALT_NAME ST_FIPS  \\\n",
       "0      http://www.hanfordhealth.com  NOT AVAILABLE  NOT AVAILABLE       6   \n",
       "1  http://www.losrobleshospital.com  NOT AVAILABLE  NOT AVAILABLE       6   \n",
       "2             http://www.elalax.com  NOT AVAILABLE  NOT AVAILABLE       6   \n",
       "\n",
       "         OWNER TTL_STAFF  BEDS         TRAUMA  HELIPAD  \n",
       "0  PROPRIETARY      -999    49  NOT AVAILABLE        N  \n",
       "1  PROPRIETARY      -999    62  NOT AVAILABLE        N  \n",
       "2  PROPRIETARY      -999   127  NOT AVAILABLE        N  \n",
       "\n",
       "[3 rows x 34 columns]"
      ]
     },
     "execution_count": 3,
     "metadata": {},
     "output_type": "execute_result"
    }
   ],
   "source": [
    "df.head(3)"
   ]
  },
  {
   "cell_type": "code",
   "execution_count": 4,
   "metadata": {},
   "outputs": [
    {
     "data": {
      "text/html": [
       "<div>\n",
       "<style scoped>\n",
       "    .dataframe tbody tr th:only-of-type {\n",
       "        vertical-align: middle;\n",
       "    }\n",
       "\n",
       "    .dataframe tbody tr th {\n",
       "        vertical-align: top;\n",
       "    }\n",
       "\n",
       "    .dataframe thead th {\n",
       "        text-align: right;\n",
       "    }\n",
       "</style>\n",
       "<table border=\"1\" class=\"dataframe\">\n",
       "  <thead>\n",
       "    <tr style=\"text-align: right;\">\n",
       "      <th></th>\n",
       "      <th>X</th>\n",
       "      <th>Y</th>\n",
       "      <th>OBJECTID</th>\n",
       "      <th>ID</th>\n",
       "      <th>NAME</th>\n",
       "      <th>ADDRESS</th>\n",
       "      <th>CITY</th>\n",
       "      <th>STATE</th>\n",
       "      <th>ZIP</th>\n",
       "      <th>ZIP4</th>\n",
       "      <th>...</th>\n",
       "      <th>VAL_DATE</th>\n",
       "      <th>WEBSITE</th>\n",
       "      <th>STATE_ID</th>\n",
       "      <th>ALT_NAME</th>\n",
       "      <th>ST_FIPS</th>\n",
       "      <th>OWNER</th>\n",
       "      <th>TTL_STAFF</th>\n",
       "      <th>BEDS</th>\n",
       "      <th>TRAUMA</th>\n",
       "      <th>HELIPAD</th>\n",
       "    </tr>\n",
       "  </thead>\n",
       "  <tbody>\n",
       "    <tr>\n",
       "      <th>7593</th>\n",
       "      <td>-8.084677e+06</td>\n",
       "      <td>5.094112e+06</td>\n",
       "      <td>7609</td>\n",
       "      <td>196706457</td>\n",
       "      <td>WHITING FORENSIC HOSPITAL</td>\n",
       "      <td>70 OBRIEN DR</td>\n",
       "      <td>MIDDLETOWN</td>\n",
       "      <td>CT</td>\n",
       "      <td>6457</td>\n",
       "      <td>3945</td>\n",
       "      <td>...</td>\n",
       "      <td>2020/05/08 00:00:00</td>\n",
       "      <td>https://portal.ct.gov/dmhas/wfh/whiting-forens...</td>\n",
       "      <td>NOT AVAILABLE</td>\n",
       "      <td>NOT AVAILABLE</td>\n",
       "      <td>9</td>\n",
       "      <td>GOVERNMENT - STATE</td>\n",
       "      <td>-999</td>\n",
       "      <td>229</td>\n",
       "      <td>NOT AVAILABLE</td>\n",
       "      <td>N</td>\n",
       "    </tr>\n",
       "    <tr>\n",
       "      <th>7594</th>\n",
       "      <td>-8.522423e+06</td>\n",
       "      <td>4.718512e+06</td>\n",
       "      <td>7610</td>\n",
       "      <td>191021401</td>\n",
       "      <td>J KENT MCNEW FAMILY MEDICAL CENTER</td>\n",
       "      <td>175 HARRY S TRUMAN PARKWAY</td>\n",
       "      <td>ANNAPOLIS</td>\n",
       "      <td>MD</td>\n",
       "      <td>21401</td>\n",
       "      <td>NOT AVAILABLE</td>\n",
       "      <td>...</td>\n",
       "      <td>2020/05/05 00:00:00</td>\n",
       "      <td>https://aahs.org/locations/j--kent-mcnew-famil...</td>\n",
       "      <td>NOT AVAILABLE</td>\n",
       "      <td>NOT AVAILABLE</td>\n",
       "      <td>24</td>\n",
       "      <td>NON-PROFIT</td>\n",
       "      <td>-999</td>\n",
       "      <td>-999</td>\n",
       "      <td>NOT AVAILABLE</td>\n",
       "      <td>N</td>\n",
       "    </tr>\n",
       "    <tr>\n",
       "      <th>7595</th>\n",
       "      <td>-1.244921e+07</td>\n",
       "      <td>4.976468e+06</td>\n",
       "      <td>7611</td>\n",
       "      <td>196784108</td>\n",
       "      <td>UNIVERSITY ORTHOPAEDIC CENTER</td>\n",
       "      <td>590 WAKARA WAY</td>\n",
       "      <td>SALT LAKE CITY</td>\n",
       "      <td>UT</td>\n",
       "      <td>84108</td>\n",
       "      <td>NOT AVAILABLE</td>\n",
       "      <td>...</td>\n",
       "      <td>2020/05/05 00:00:00</td>\n",
       "      <td>https://healthcare.utah.edu/orthopaedics/</td>\n",
       "      <td>NOT AVAILABLE</td>\n",
       "      <td>NOT AVAILABLE</td>\n",
       "      <td>49</td>\n",
       "      <td>GOVERNMENT - STATE</td>\n",
       "      <td>-999</td>\n",
       "      <td>-999</td>\n",
       "      <td>NOT AVAILABLE</td>\n",
       "      <td>N</td>\n",
       "    </tr>\n",
       "  </tbody>\n",
       "</table>\n",
       "<p>3 rows × 34 columns</p>\n",
       "</div>"
      ],
      "text/plain": [
       "                 X             Y  OBJECTID         ID  \\\n",
       "7593 -8.084677e+06  5.094112e+06      7609  196706457   \n",
       "7594 -8.522423e+06  4.718512e+06      7610  191021401   \n",
       "7595 -1.244921e+07  4.976468e+06      7611  196784108   \n",
       "\n",
       "                                    NAME                     ADDRESS  \\\n",
       "7593           WHITING FORENSIC HOSPITAL                70 OBRIEN DR   \n",
       "7594  J KENT MCNEW FAMILY MEDICAL CENTER  175 HARRY S TRUMAN PARKWAY   \n",
       "7595       UNIVERSITY ORTHOPAEDIC CENTER              590 WAKARA WAY   \n",
       "\n",
       "                CITY STATE    ZIP           ZIP4  ...             VAL_DATE  \\\n",
       "7593      MIDDLETOWN    CT   6457           3945  ...  2020/05/08 00:00:00   \n",
       "7594       ANNAPOLIS    MD  21401  NOT AVAILABLE  ...  2020/05/05 00:00:00   \n",
       "7595  SALT LAKE CITY    UT  84108  NOT AVAILABLE  ...  2020/05/05 00:00:00   \n",
       "\n",
       "                                                WEBSITE       STATE_ID  \\\n",
       "7593  https://portal.ct.gov/dmhas/wfh/whiting-forens...  NOT AVAILABLE   \n",
       "7594  https://aahs.org/locations/j--kent-mcnew-famil...  NOT AVAILABLE   \n",
       "7595          https://healthcare.utah.edu/orthopaedics/  NOT AVAILABLE   \n",
       "\n",
       "           ALT_NAME ST_FIPS               OWNER TTL_STAFF  BEDS  \\\n",
       "7593  NOT AVAILABLE       9  GOVERNMENT - STATE      -999   229   \n",
       "7594  NOT AVAILABLE      24          NON-PROFIT      -999  -999   \n",
       "7595  NOT AVAILABLE      49  GOVERNMENT - STATE      -999  -999   \n",
       "\n",
       "             TRAUMA  HELIPAD  \n",
       "7593  NOT AVAILABLE        N  \n",
       "7594  NOT AVAILABLE        N  \n",
       "7595  NOT AVAILABLE        N  \n",
       "\n",
       "[3 rows x 34 columns]"
      ]
     },
     "execution_count": 4,
     "metadata": {},
     "output_type": "execute_result"
    }
   ],
   "source": [
    "df.tail(3)"
   ]
  },
  {
   "cell_type": "markdown",
   "metadata": {},
   "source": [
    "#3: The \"Hospitals\" dataset has 7,596 rows and 34 columns"
   ]
  },
  {
   "cell_type": "code",
   "execution_count": 5,
   "metadata": {},
   "outputs": [
    {
     "data": {
      "text/plain": [
       "(7596, 34)"
      ]
     },
     "execution_count": 5,
     "metadata": {},
     "output_type": "execute_result"
    }
   ],
   "source": [
    "df.shape"
   ]
  },
  {
   "cell_type": "markdown",
   "metadata": {},
   "source": [
    "#4: Datasets can be sliced by choosing the list of column names to be retained"
   ]
  },
  {
   "cell_type": "code",
   "execution_count": 6,
   "metadata": {},
   "outputs": [],
   "source": [
    "df_sub = df[['NAME', 'ADDRESS', 'CITY', 'STATE', 'TYPE', 'POPULATION', 'COUNTY', 'COUNTYFIPS', 'NAICS_DESC', 'BEDS']]"
   ]
  },
  {
   "cell_type": "code",
   "execution_count": 7,
   "metadata": {},
   "outputs": [
    {
     "data": {
      "text/plain": [
       "(7596, 10)"
      ]
     },
     "execution_count": 7,
     "metadata": {},
     "output_type": "execute_result"
    }
   ],
   "source": [
    "df_sub.shape"
   ]
  },
  {
   "cell_type": "markdown",
   "metadata": {},
   "source": [
    "#5: What are the different hospital types (contained in the TYPE column)? Which is the most common?  <br> \n",
    "General Acute Care is the most common, with over 4,481 listed. "
   ]
  },
  {
   "cell_type": "code",
   "execution_count": 8,
   "metadata": {},
   "outputs": [
    {
     "data": {
      "text/plain": [
       "array(['GENERAL ACUTE CARE', 'PSYCHIATRIC', 'CHILDREN', 'LONG TERM CARE',\n",
       "       'CRITICAL ACCESS', 'REHABILITATION', 'MILITARY', 'WOMEN',\n",
       "       'SPECIAL', 'CHRONIC DISEASE'], dtype=object)"
      ]
     },
     "execution_count": 8,
     "metadata": {},
     "output_type": "execute_result"
    }
   ],
   "source": [
    "df_sub['TYPE'].unique()"
   ]
  },
  {
   "cell_type": "code",
   "execution_count": 9,
   "metadata": {},
   "outputs": [
    {
     "data": {
      "text/plain": [
       "GENERAL ACUTE CARE    4481\n",
       "CRITICAL ACCESS       1027\n",
       "PSYCHIATRIC            759\n",
       "LONG TERM CARE         431\n",
       "REHABILITATION         378\n",
       "MILITARY               216\n",
       "SPECIAL                145\n",
       "CHILDREN               130\n",
       "WOMEN                   20\n",
       "CHRONIC DISEASE          9\n",
       "Name: TYPE, dtype: int64"
      ]
     },
     "execution_count": 9,
     "metadata": {},
     "output_type": "execute_result"
    }
   ],
   "source": [
    "df_sub['TYPE'].value_counts()"
   ]
  },
  {
   "cell_type": "markdown",
   "metadata": {},
   "source": [
    "#6: Find all hospitals in Nashville, Tennessee. Take a look at the BEDS column. What do you notice? Why do you think this is? <br>\n",
    "There are 13 hospitals listed in Nashville. THE WOMEN'S HOSPITAL AT CENTENNIAL has the value -999 in BEDS. This is likely being used as a missing value. "
   ]
  },
  {
   "cell_type": "code",
   "execution_count": 18,
   "metadata": {},
   "outputs": [],
   "source": [
    "df_sub_Nash = df_sub.loc[(df_sub['CITY'] == 'NASHVILLE') & (df_sub['STATE']=='TN')]"
   ]
  },
  {
   "cell_type": "code",
   "execution_count": 19,
   "metadata": {},
   "outputs": [
    {
     "data": {
      "text/plain": [
       "(13, 10)"
      ]
     },
     "execution_count": 19,
     "metadata": {},
     "output_type": "execute_result"
    }
   ],
   "source": [
    "df_sub_Nash.shape"
   ]
  },
  {
   "cell_type": "code",
   "execution_count": 20,
   "metadata": {},
   "outputs": [
    {
     "data": {
      "text/html": [
       "<div>\n",
       "<style scoped>\n",
       "    .dataframe tbody tr th:only-of-type {\n",
       "        vertical-align: middle;\n",
       "    }\n",
       "\n",
       "    .dataframe tbody tr th {\n",
       "        vertical-align: top;\n",
       "    }\n",
       "\n",
       "    .dataframe thead th {\n",
       "        text-align: right;\n",
       "    }\n",
       "</style>\n",
       "<table border=\"1\" class=\"dataframe\">\n",
       "  <thead>\n",
       "    <tr style=\"text-align: right;\">\n",
       "      <th></th>\n",
       "      <th>NAME</th>\n",
       "      <th>ADDRESS</th>\n",
       "      <th>CITY</th>\n",
       "      <th>STATE</th>\n",
       "      <th>TYPE</th>\n",
       "      <th>POPULATION</th>\n",
       "      <th>COUNTY</th>\n",
       "      <th>COUNTYFIPS</th>\n",
       "      <th>NAICS_DESC</th>\n",
       "      <th>BEDS</th>\n",
       "    </tr>\n",
       "  </thead>\n",
       "  <tbody>\n",
       "    <tr>\n",
       "      <th>545</th>\n",
       "      <td>TRISTAR SKYLINE MEDICAL CENTER</td>\n",
       "      <td>3441 DICKERSON PIKE</td>\n",
       "      <td>NASHVILLE</td>\n",
       "      <td>TN</td>\n",
       "      <td>GENERAL ACUTE CARE</td>\n",
       "      <td>213</td>\n",
       "      <td>DAVIDSON</td>\n",
       "      <td>47037</td>\n",
       "      <td>GENERAL MEDICAL AND SURGICAL HOSPITALS</td>\n",
       "      <td>213</td>\n",
       "    </tr>\n",
       "    <tr>\n",
       "      <th>3449</th>\n",
       "      <td>SELECT SPECIALTY HOSPITAL - NASHVILLE</td>\n",
       "      <td>2000 HAYES STREET, SUITE 500</td>\n",
       "      <td>NASHVILLE</td>\n",
       "      <td>TN</td>\n",
       "      <td>LONG TERM CARE</td>\n",
       "      <td>70</td>\n",
       "      <td>DAVIDSON</td>\n",
       "      <td>47037</td>\n",
       "      <td>SPECIALTY (EXCEPT PSYCHIATRIC AND SUBSTANCE AB...</td>\n",
       "      <td>70</td>\n",
       "    </tr>\n",
       "    <tr>\n",
       "      <th>3485</th>\n",
       "      <td>CURAHEALTH NASHVILLE</td>\n",
       "      <td>1412 COUNTY HOSPITAL ROAD, B-1</td>\n",
       "      <td>NASHVILLE</td>\n",
       "      <td>TN</td>\n",
       "      <td>LONG TERM CARE</td>\n",
       "      <td>60</td>\n",
       "      <td>DAVIDSON</td>\n",
       "      <td>47037</td>\n",
       "      <td>SPECIALTY (EXCEPT PSYCHIATRIC AND SUBSTANCE AB...</td>\n",
       "      <td>60</td>\n",
       "    </tr>\n",
       "    <tr>\n",
       "      <th>5429</th>\n",
       "      <td>THE WOMEN'S HOSPITAL AT CENTENNIAL</td>\n",
       "      <td>2221 MURPHY AVENUE</td>\n",
       "      <td>NASHVILLE</td>\n",
       "      <td>TN</td>\n",
       "      <td>WOMEN</td>\n",
       "      <td>-999</td>\n",
       "      <td>DAVIDSON</td>\n",
       "      <td>47037</td>\n",
       "      <td>SPECIALTY (EXCEPT PSYCHIATRIC AND SUBSTANCE AB...</td>\n",
       "      <td>-999</td>\n",
       "    </tr>\n",
       "    <tr>\n",
       "      <th>5433</th>\n",
       "      <td>METROPOLITAN NASHVILLE GENERAL HOSPITAL</td>\n",
       "      <td>1818 ALBION STREET</td>\n",
       "      <td>NASHVILLE</td>\n",
       "      <td>TN</td>\n",
       "      <td>GENERAL ACUTE CARE</td>\n",
       "      <td>150</td>\n",
       "      <td>DAVIDSON</td>\n",
       "      <td>47037</td>\n",
       "      <td>GENERAL MEDICAL AND SURGICAL HOSPITALS</td>\n",
       "      <td>150</td>\n",
       "    </tr>\n",
       "    <tr>\n",
       "      <th>6289</th>\n",
       "      <td>SAINT THOMAS MIDTOWN HOSPITAL</td>\n",
       "      <td>2000 CHURCH STREET</td>\n",
       "      <td>NASHVILLE</td>\n",
       "      <td>TN</td>\n",
       "      <td>GENERAL ACUTE CARE</td>\n",
       "      <td>683</td>\n",
       "      <td>DAVIDSON</td>\n",
       "      <td>47037</td>\n",
       "      <td>GENERAL MEDICAL AND SURGICAL HOSPITALS</td>\n",
       "      <td>683</td>\n",
       "    </tr>\n",
       "    <tr>\n",
       "      <th>6293</th>\n",
       "      <td>VANDERBILT STALLWORTH REHABILITATION HOSPITAL</td>\n",
       "      <td>2201 CHILDREN'S WAY</td>\n",
       "      <td>NASHVILLE</td>\n",
       "      <td>TN</td>\n",
       "      <td>REHABILITATION</td>\n",
       "      <td>80</td>\n",
       "      <td>DAVIDSON</td>\n",
       "      <td>47037</td>\n",
       "      <td>REHABILITATION HOSPITALS (EXCEPT ALCOHOLISM, D...</td>\n",
       "      <td>80</td>\n",
       "    </tr>\n",
       "    <tr>\n",
       "      <th>6661</th>\n",
       "      <td>VA MEDICAL CENTER - NASHVILLE CAMPUS</td>\n",
       "      <td>1310 24TH AVE S</td>\n",
       "      <td>NASHVILLE</td>\n",
       "      <td>TN</td>\n",
       "      <td>MILITARY</td>\n",
       "      <td>493</td>\n",
       "      <td>DAVIDSON</td>\n",
       "      <td>47037</td>\n",
       "      <td>GENERAL MEDICAL AND SURGICAL HOSPITALS</td>\n",
       "      <td>493</td>\n",
       "    </tr>\n",
       "    <tr>\n",
       "      <th>6774</th>\n",
       "      <td>SAINT THOMAS HOSPITAL FOR SPECIALTY SURGERY</td>\n",
       "      <td>2011 MURPHY AVENUE</td>\n",
       "      <td>NASHVILLE</td>\n",
       "      <td>TN</td>\n",
       "      <td>GENERAL ACUTE CARE</td>\n",
       "      <td>23</td>\n",
       "      <td>DAVIDSON</td>\n",
       "      <td>47037</td>\n",
       "      <td>GENERAL MEDICAL AND SURGICAL HOSPITALS</td>\n",
       "      <td>23</td>\n",
       "    </tr>\n",
       "    <tr>\n",
       "      <th>6777</th>\n",
       "      <td>SAINT THOMAS WEST HOSPITAL</td>\n",
       "      <td>4220 HARDING ROAD</td>\n",
       "      <td>NASHVILLE</td>\n",
       "      <td>TN</td>\n",
       "      <td>GENERAL ACUTE CARE</td>\n",
       "      <td>541</td>\n",
       "      <td>DAVIDSON</td>\n",
       "      <td>47037</td>\n",
       "      <td>GENERAL MEDICAL AND SURGICAL HOSPITALS</td>\n",
       "      <td>541</td>\n",
       "    </tr>\n",
       "    <tr>\n",
       "      <th>6786</th>\n",
       "      <td>TRISTAR SOUTHERN HILLS MEDICAL CENTER</td>\n",
       "      <td>391 WALLACE ROAD</td>\n",
       "      <td>NASHVILLE</td>\n",
       "      <td>TN</td>\n",
       "      <td>GENERAL ACUTE CARE</td>\n",
       "      <td>126</td>\n",
       "      <td>DAVIDSON</td>\n",
       "      <td>47037</td>\n",
       "      <td>GENERAL MEDICAL AND SURGICAL HOSPITALS</td>\n",
       "      <td>126</td>\n",
       "    </tr>\n",
       "    <tr>\n",
       "      <th>6808</th>\n",
       "      <td>TRISTAR CENTENNIAL MEDICAL CENTER</td>\n",
       "      <td>2300 PATTERSON STREET</td>\n",
       "      <td>NASHVILLE</td>\n",
       "      <td>TN</td>\n",
       "      <td>GENERAL ACUTE CARE</td>\n",
       "      <td>733</td>\n",
       "      <td>DAVIDSON</td>\n",
       "      <td>47037</td>\n",
       "      <td>GENERAL MEDICAL AND SURGICAL HOSPITALS</td>\n",
       "      <td>733</td>\n",
       "    </tr>\n",
       "    <tr>\n",
       "      <th>6813</th>\n",
       "      <td>VANDERBILT UNIVERSITY HOSPITAL</td>\n",
       "      <td>1211 MEDICAL CENTER DRIVE</td>\n",
       "      <td>NASHVILLE</td>\n",
       "      <td>TN</td>\n",
       "      <td>GENERAL ACUTE CARE</td>\n",
       "      <td>1091</td>\n",
       "      <td>DAVIDSON</td>\n",
       "      <td>47037</td>\n",
       "      <td>GENERAL MEDICAL AND SURGICAL HOSPITALS</td>\n",
       "      <td>1091</td>\n",
       "    </tr>\n",
       "  </tbody>\n",
       "</table>\n",
       "</div>"
      ],
      "text/plain": [
       "                                               NAME  \\\n",
       "545                  TRISTAR SKYLINE MEDICAL CENTER   \n",
       "3449          SELECT SPECIALTY HOSPITAL - NASHVILLE   \n",
       "3485                           CURAHEALTH NASHVILLE   \n",
       "5429             THE WOMEN'S HOSPITAL AT CENTENNIAL   \n",
       "5433        METROPOLITAN NASHVILLE GENERAL HOSPITAL   \n",
       "6289                  SAINT THOMAS MIDTOWN HOSPITAL   \n",
       "6293  VANDERBILT STALLWORTH REHABILITATION HOSPITAL   \n",
       "6661           VA MEDICAL CENTER - NASHVILLE CAMPUS   \n",
       "6774    SAINT THOMAS HOSPITAL FOR SPECIALTY SURGERY   \n",
       "6777                     SAINT THOMAS WEST HOSPITAL   \n",
       "6786          TRISTAR SOUTHERN HILLS MEDICAL CENTER   \n",
       "6808              TRISTAR CENTENNIAL MEDICAL CENTER   \n",
       "6813                 VANDERBILT UNIVERSITY HOSPITAL   \n",
       "\n",
       "                             ADDRESS       CITY STATE                TYPE  \\\n",
       "545              3441 DICKERSON PIKE  NASHVILLE    TN  GENERAL ACUTE CARE   \n",
       "3449    2000 HAYES STREET, SUITE 500  NASHVILLE    TN      LONG TERM CARE   \n",
       "3485  1412 COUNTY HOSPITAL ROAD, B-1  NASHVILLE    TN      LONG TERM CARE   \n",
       "5429              2221 MURPHY AVENUE  NASHVILLE    TN               WOMEN   \n",
       "5433              1818 ALBION STREET  NASHVILLE    TN  GENERAL ACUTE CARE   \n",
       "6289              2000 CHURCH STREET  NASHVILLE    TN  GENERAL ACUTE CARE   \n",
       "6293             2201 CHILDREN'S WAY  NASHVILLE    TN      REHABILITATION   \n",
       "6661                 1310 24TH AVE S  NASHVILLE    TN            MILITARY   \n",
       "6774              2011 MURPHY AVENUE  NASHVILLE    TN  GENERAL ACUTE CARE   \n",
       "6777               4220 HARDING ROAD  NASHVILLE    TN  GENERAL ACUTE CARE   \n",
       "6786                391 WALLACE ROAD  NASHVILLE    TN  GENERAL ACUTE CARE   \n",
       "6808           2300 PATTERSON STREET  NASHVILLE    TN  GENERAL ACUTE CARE   \n",
       "6813       1211 MEDICAL CENTER DRIVE  NASHVILLE    TN  GENERAL ACUTE CARE   \n",
       "\n",
       "      POPULATION    COUNTY COUNTYFIPS  \\\n",
       "545          213  DAVIDSON      47037   \n",
       "3449          70  DAVIDSON      47037   \n",
       "3485          60  DAVIDSON      47037   \n",
       "5429        -999  DAVIDSON      47037   \n",
       "5433         150  DAVIDSON      47037   \n",
       "6289         683  DAVIDSON      47037   \n",
       "6293          80  DAVIDSON      47037   \n",
       "6661         493  DAVIDSON      47037   \n",
       "6774          23  DAVIDSON      47037   \n",
       "6777         541  DAVIDSON      47037   \n",
       "6786         126  DAVIDSON      47037   \n",
       "6808         733  DAVIDSON      47037   \n",
       "6813        1091  DAVIDSON      47037   \n",
       "\n",
       "                                             NAICS_DESC  BEDS  \n",
       "545              GENERAL MEDICAL AND SURGICAL HOSPITALS   213  \n",
       "3449  SPECIALTY (EXCEPT PSYCHIATRIC AND SUBSTANCE AB...    70  \n",
       "3485  SPECIALTY (EXCEPT PSYCHIATRIC AND SUBSTANCE AB...    60  \n",
       "5429  SPECIALTY (EXCEPT PSYCHIATRIC AND SUBSTANCE AB...  -999  \n",
       "5433             GENERAL MEDICAL AND SURGICAL HOSPITALS   150  \n",
       "6289             GENERAL MEDICAL AND SURGICAL HOSPITALS   683  \n",
       "6293  REHABILITATION HOSPITALS (EXCEPT ALCOHOLISM, D...    80  \n",
       "6661             GENERAL MEDICAL AND SURGICAL HOSPITALS   493  \n",
       "6774             GENERAL MEDICAL AND SURGICAL HOSPITALS    23  \n",
       "6777             GENERAL MEDICAL AND SURGICAL HOSPITALS   541  \n",
       "6786             GENERAL MEDICAL AND SURGICAL HOSPITALS   126  \n",
       "6808             GENERAL MEDICAL AND SURGICAL HOSPITALS   733  \n",
       "6813             GENERAL MEDICAL AND SURGICAL HOSPITALS  1091  "
      ]
     },
     "execution_count": 20,
     "metadata": {},
     "output_type": "execute_result"
    }
   ],
   "source": [
    "df_sub_Nash"
   ]
  },
  {
   "cell_type": "code",
   "execution_count": 21,
   "metadata": {},
   "outputs": [
    {
     "data": {
      "text/html": [
       "<div>\n",
       "<style scoped>\n",
       "    .dataframe tbody tr th:only-of-type {\n",
       "        vertical-align: middle;\n",
       "    }\n",
       "\n",
       "    .dataframe tbody tr th {\n",
       "        vertical-align: top;\n",
       "    }\n",
       "\n",
       "    .dataframe thead th {\n",
       "        text-align: right;\n",
       "    }\n",
       "</style>\n",
       "<table border=\"1\" class=\"dataframe\">\n",
       "  <thead>\n",
       "    <tr style=\"text-align: right;\">\n",
       "      <th></th>\n",
       "      <th>BEDS</th>\n",
       "    </tr>\n",
       "  </thead>\n",
       "  <tbody>\n",
       "    <tr>\n",
       "      <th>545</th>\n",
       "      <td>213</td>\n",
       "    </tr>\n",
       "    <tr>\n",
       "      <th>3449</th>\n",
       "      <td>70</td>\n",
       "    </tr>\n",
       "    <tr>\n",
       "      <th>3485</th>\n",
       "      <td>60</td>\n",
       "    </tr>\n",
       "    <tr>\n",
       "      <th>5429</th>\n",
       "      <td>-999</td>\n",
       "    </tr>\n",
       "    <tr>\n",
       "      <th>5433</th>\n",
       "      <td>150</td>\n",
       "    </tr>\n",
       "    <tr>\n",
       "      <th>6289</th>\n",
       "      <td>683</td>\n",
       "    </tr>\n",
       "    <tr>\n",
       "      <th>6293</th>\n",
       "      <td>80</td>\n",
       "    </tr>\n",
       "    <tr>\n",
       "      <th>6661</th>\n",
       "      <td>493</td>\n",
       "    </tr>\n",
       "    <tr>\n",
       "      <th>6774</th>\n",
       "      <td>23</td>\n",
       "    </tr>\n",
       "    <tr>\n",
       "      <th>6777</th>\n",
       "      <td>541</td>\n",
       "    </tr>\n",
       "    <tr>\n",
       "      <th>6786</th>\n",
       "      <td>126</td>\n",
       "    </tr>\n",
       "    <tr>\n",
       "      <th>6808</th>\n",
       "      <td>733</td>\n",
       "    </tr>\n",
       "    <tr>\n",
       "      <th>6813</th>\n",
       "      <td>1091</td>\n",
       "    </tr>\n",
       "  </tbody>\n",
       "</table>\n",
       "</div>"
      ],
      "text/plain": [
       "      BEDS\n",
       "545    213\n",
       "3449    70\n",
       "3485    60\n",
       "5429  -999\n",
       "5433   150\n",
       "6289   683\n",
       "6293    80\n",
       "6661   493\n",
       "6774    23\n",
       "6777   541\n",
       "6786   126\n",
       "6808   733\n",
       "6813  1091"
      ]
     },
     "execution_count": 21,
     "metadata": {},
     "output_type": "execute_result"
    }
   ],
   "source": [
    "df_sub_Nash[['BEDS']]"
   ]
  },
  {
   "cell_type": "markdown",
   "metadata": {},
   "source": [
    "#7: Which county in Tennessee has the most hospitals? <br>\n",
    "Shelby County has the most hospitals. "
   ]
  },
  {
   "cell_type": "code",
   "execution_count": 14,
   "metadata": {},
   "outputs": [],
   "source": [
    "df_sub_TN = df_sub.loc[df_sub['STATE'] == 'TN']"
   ]
  },
  {
   "cell_type": "code",
   "execution_count": 25,
   "metadata": {},
   "outputs": [
    {
     "data": {
      "text/plain": [
       "SHELBY        23\n",
       "DAVIDSON      15\n",
       "HAMILTON      13\n",
       "KNOX          11\n",
       "WASHINGTON     6\n",
       "              ..\n",
       "TIPTON         1\n",
       "GILES          1\n",
       "MARSHALL       1\n",
       "MONROE         1\n",
       "SEVIER         1\n",
       "Name: COUNTY, Length: 80, dtype: int64"
      ]
     },
     "execution_count": 25,
     "metadata": {},
     "output_type": "execute_result"
    }
   ],
   "source": [
    "df_sub_TN['COUNTY'].value_counts()"
   ]
  },
  {
   "cell_type": "markdown",
   "metadata": {},
   "source": [
    "#8: There are 95 counties in Tennessee. How many of them have no hospitals at all? <br>15 counties have no hospital."
   ]
  },
  {
   "cell_type": "code",
   "execution_count": 16,
   "metadata": {},
   "outputs": [
    {
     "data": {
      "text/plain": [
       "80"
      ]
     },
     "execution_count": 16,
     "metadata": {},
     "output_type": "execute_result"
    }
   ],
   "source": [
    "df_sub_TN['COUNTY'].nunique()"
   ]
  },
  {
   "cell_type": "code",
   "execution_count": 17,
   "metadata": {},
   "outputs": [
    {
     "data": {
      "text/plain": [
       "15"
      ]
     },
     "execution_count": 17,
     "metadata": {},
     "output_type": "execute_result"
    }
   ],
   "source": [
    "95-80"
   ]
  }
 ],
 "metadata": {
  "kernelspec": {
   "display_name": "Python 3",
   "language": "python",
   "name": "python3"
  },
  "language_info": {
   "codemirror_mode": {
    "name": "ipython",
    "version": 3
   },
   "file_extension": ".py",
   "mimetype": "text/x-python",
   "name": "python",
   "nbconvert_exporter": "python",
   "pygments_lexer": "ipython3",
   "version": "3.6.4"
  }
 },
 "nbformat": 4,
 "nbformat_minor": 2
}
